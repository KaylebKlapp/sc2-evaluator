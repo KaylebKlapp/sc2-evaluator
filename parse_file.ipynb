{
 "cells": [
  {
   "cell_type": "markdown",
   "id": "79cfbbc2",
   "metadata": {},
   "source": [
    "Author: Kayleb Klapp\n",
    "Date: 11 May, 2025\n",
    "File: parse_file.ipynb\n",
    "\n",
    "The purpose of this program is to parse .SC2Replay files into a feature dataset, all downloaded using a webscraper tool on https://lotv.spawningtool.com/replays/\n",
    "\n",
    "The program reads in the files in the \"replay\" directory, loads them into memory creating files for each replay with all the metadata for a specific replay (.abt) files, and finally outputs an output csv with all features and metadata.\n",
    "\n",
    "The filename feature references a .abt file, which contains the name of the actual replay file, as well as a bunch of other useful information.\n"
   ]
  },
  {
   "cell_type": "markdown",
   "id": "3ba142b5",
   "metadata": {},
   "source": [
    "Imports and file directory variables. All self explanatory, except for abt.file_info_path, which just stores unique number used in .abt files names so that .abt files never override each other.\n",
    "\n",
    "See https://github.com/ZephyrBlu/zephyrus-sc2-parser?tab=readme-ov-file for information on zephyrus_sc2_parser"
   ]
  },
  {
   "cell_type": "code",
   "execution_count": null,
   "id": "dc03706f",
   "metadata": {},
   "outputs": [
    {
     "ename": "",
     "evalue": "",
     "output_type": "error",
     "traceback": [
      "\u001b[1;31mRunning cells with '.venv (Python 3.11.9)' requires the ipykernel package.\n",
      "\u001b[1;31mInstall 'ipykernel' into the Python environment. \n",
      "\u001b[1;31mCommand: '\"c:/Users/kayleb/school/Machine Learning Project/.venv/Scripts/python.exe\" -m pip install ipykernel -U --force-reinstall'"
     ]
    }
   ],
   "source": [
    "from zephyrus_sc2_parser import parse_replay\n",
    "from glob import glob\n",
    "import os\n",
    "import numpy as np\n",
    "import time\n",
    "\n",
    "replay_path = \"replays\"\n",
    "metadata_path = \"replay_metadata\"\n",
    "abt_file_info_path = \"about_file_number.txt\"\n",
    "output_file = \"output.csv\""
   ]
  },
  {
   "cell_type": "markdown",
   "id": "d6c3051f",
   "metadata": {},
   "source": [
    "Header information for the output csv. The header goes: \n",
    "    admin header -> player 1 generic_header (p1header) -> player 2 generic header (p2header) -> admin_footer\n",
    "\n",
    "Any changes made to the parsing to add new features will have to added to the header here as well."
   ]
  },
  {
   "cell_type": "code",
   "execution_count": null,
   "id": "a2461aca",
   "metadata": {},
   "outputs": [],
   "source": [
    "\n",
    "admin_header = [\n",
    "    \"id\",\n",
    "    \"file_name\",\n",
    "    \"gametime\"\n",
    "]\n",
    "\n",
    "admin_footer = [\n",
    "    \"winner\"\n",
    "]\n",
    "\n",
    "# This is the CSV header sans admin. Admin includes player prefixes, ids, etc.\n",
    "generic_header = [\n",
    "        \"unspent_minerals\",\n",
    "        \"unspent_gas\",\n",
    "        \"unit_count\",\n",
    "        \"building_count\",\n",
    "        \"upgrade_count\",\n",
    "        \"active_workers\",\n",
    "        \"supply_cap\",\n",
    "        \"total_gas_collected\",\n",
    "        \"total_minerals_collected\",\n",
    "        \"total_army_value\"\n",
    "        ]\n",
    "\n",
    "p1header = [\"p1_\" + val for val in generic_header]\n",
    "p2header = [\"p2_\" + val for val in generic_header]"
   ]
  },
  {
   "cell_type": "markdown",
   "id": "27463824",
   "metadata": {},
   "source": [
    "File processing for .SC2Replay files.\n",
    "The order of operations should be:\n",
    "    Parse the files\n",
    "    Get the metadata and game information\n",
    "    Write metadata to a file (.abt file)\n",
    "    For each point in time in each file:\n",
    "        extract features for both players"
   ]
  },
  {
   "cell_type": "markdown",
   "id": "c4a2fb59",
   "metadata": {},
   "source": [
    "Strictly file io operations. No feature extraction/ handling is done here."
   ]
  },
  {
   "cell_type": "code",
   "execution_count": null,
   "id": "ae81d7d5",
   "metadata": {},
   "outputs": [],
   "source": [
    "\n",
    "# Gets all of the specified file type from the replay path directory.\n",
    "def get_replay_files():\n",
    "    replay_files = glob(os.path.join(replay_path, \"*.SC2Replay\"))\n",
    "    return replay_files\n",
    "\n",
    "# Parses the files into replay data structures. No features are extracted here.\n",
    "def parse_replay_files(files):\n",
    "    replays = list()\n",
    "    badfilecount = 0\n",
    "    goodfilecount = 0\n",
    "    for i, file in enumerate(files):\n",
    "        # This can fail. Some issue with the parse_replay function\n",
    "        try:\n",
    "            replay = parse_replay(file)\n",
    "            replay.metadata[\"filename\"] = file\n",
    "            replays.append(replay)\n",
    "            goodfilecount += 1\n",
    "        except:\n",
    "            badfilecount += 1\n",
    "        \n",
    "        if (i % 1000 == 0):\n",
    "            print(f\"{i}/{len(files)} files parsed...\")\n",
    "\n",
    "    print(f\"Parsing Complete:\") \n",
    "    print(f\"\\t Replays Failed:    {badfilecount}\")\n",
    "    print(f\"\\t Replays Succeeded: {goodfilecount}\")\n",
    "    print(f\"\\tSuccess Rate: {float(goodfilecount) / float(goodfilecount + badfilecount)}\")\n",
    "    return replays\n",
    "\n",
    "# Makes a .abt file with the metadata, and a pointer to the replay file\n",
    "def make_replay_summary_file(replay):\n",
    "    # This makes a unique filename, as long as \n",
    "    # abt_file_info_path hasn't been tampered with\n",
    "    filename = \"None\"\n",
    "    num = None\n",
    "    with open(abt_file_info_path, \"r\") as f:\n",
    "        file_cont = f.read()\n",
    "        num = int(file_cont)\n",
    "        filename = f\"{num:05X}.abt\"\n",
    "\n",
    "    # Writes all the metadata to the file. This can fail, theres some weird\n",
    "    # language stuff happening.\n",
    "    try:\n",
    "        with open(os.path.join(metadata_path, filename), \"w\") as summary_file:\n",
    "            for key, value in replay.metadata.items():\n",
    "                summary_file.writelines([str(key), str(value), \"\\n\"])\n",
    "            for key, value in replay.summary.items():\n",
    "                summary_file.writelines([str(key), str(value), \"\\n\"])\n",
    "    except:\n",
    "        # I'm dealing with a lot of errors centered around weird characters in \n",
    "        # different languages. Its really rare (<1/10000), so I'll just make these\n",
    "        # empty.\n",
    "        filename=\"nofile\"\n",
    "        print(f\"Language string problem found.\")\n",
    "    finally:\n",
    "        num += 1\n",
    "        with open(\"randseed.txt\", \"w\") as f:\n",
    "            f.write(str(num))\n",
    "        return filename"
   ]
  },
  {
   "cell_type": "markdown",
   "id": "9fbf60c4",
   "metadata": {},
   "source": [
    "### Feature Extraction\n",
    "\n",
    "These are the functions that do the actual feature extractions. The current developed features are:\n",
    "        unspent_minerals - An unused resource is generally bad.\n",
    "        unspent_gas      - More sparse resource than minerals.\n",
    "        unit_count       - The number of units. Some units are considered more than one by StarCraft II\n",
    "        building_count   - The number of buildings. Buildings do a lot of things, this is low resolution.\n",
    "        upgrade_count    - The number of upgrade buildings.\n",
    "        active_workers   - Workers collect resources and build buildings    \n",
    "        supply_cap       - This is the number of unit_count a player can reach\n",
    "        total_gas_collected         - Total amount of gas collected in the whole game\n",
    "        total_minerals_collected    - Total number of mineral collected in the whole game\n",
    "        total_army_value            - The sum of the value of the army units\n",
    "\n",
    "Features are collected for the state of the game, so a long game can yield potentially thousands of observations."
   ]
  },
  {
   "cell_type": "code",
   "execution_count": null,
   "id": "b5a03f70",
   "metadata": {},
   "outputs": [],
   "source": [
    "# Highest level per game feature extraction\n",
    "def get_features_from_replay(replay, make_summary_file=False):\n",
    "    play_features = list()\n",
    "    for gamestate in replay.timeline:\n",
    "        return_val = get_features_from_gamestate(gamestate) \n",
    "        play_features.append(return_val)\n",
    "\n",
    "    filename = \"nofile\"\n",
    "    if(make_summary_file):\n",
    "        filename = make_replay_summary_file(replay, play_features)\n",
    "\n",
    "    for i in range(len(play_features)):\n",
    "        play_features[i] = [filename] + play_features[i]\n",
    "    \n",
    "    return play_features\n",
    "\n",
    "# Per frame feature extraction\n",
    "def get_features_from_gamestate(gamestate): \n",
    "    state_features = list([gamestate[1]['gameloop']])\n",
    "    for player in [1,2]:\n",
    "        state_features.extend(get_features_for_player_state(gamestate[player]))\n",
    "    return state_features\n",
    "\n",
    "# Per player per frame feature extraction\n",
    "def get_features_for_player_state(playerstate):\n",
    "    resources = playerstate[\"unspent_resources\"]\n",
    "    unspent_minerals = resources[\"minerals\"]\n",
    "    unspent_gas = resources[\"gas\"]\n",
    "    unit_count = len(playerstate[\"unit\"])\n",
    "    building_count = len(playerstate[\"building\"])\n",
    "    upgrade_count = len(playerstate[\"upgrade\"])\n",
    "    active_workers = playerstate[\"workers_active\"]\n",
    "    supply_cap = playerstate[\"supply_cap\"]\n",
    "    total_resources_collected = playerstate[\"resources_collected\"]\n",
    "    total_gas_collected = total_resources_collected[\"gas\"]\n",
    "    total_minerals_collected = total_resources_collected[\"minerals\"]\n",
    "    total_army_value = playerstate[\"total_army_value\"]\n",
    "\n",
    "    # The purpose of all this extra complexity is to make the header dynamic.\n",
    "    # Dictionary keys are stored in the csvHeader variable, and values are looked\n",
    "    # up in order for lookup in this dictionary.\n",
    "    feature_dict = dict({\n",
    "        \"unspent_minerals\":unspent_minerals,\n",
    "        \"unspent_gas\":unspent_gas,\n",
    "        \"unit_count\":unit_count,\n",
    "        \"building_count\":building_count,\n",
    "        \"upgrade_count\":upgrade_count,\n",
    "        \"active_workers\":active_workers,\n",
    "        \"supply_cap\":supply_cap,\n",
    "        \"total_gas_collected\":total_gas_collected,\n",
    "        \"total_minerals_collected\":total_minerals_collected,\n",
    "        \"total_army_value\":total_army_value\n",
    "    })\n",
    "\n",
    "    feature_list = [feature_dict[header_key] for header_key in generic_header]\n",
    "    return list(feature_list)\n"
   ]
  },
  {
   "cell_type": "markdown",
   "id": "6bd6c970",
   "metadata": {},
   "source": [
    "### Main\n",
    "\n",
    "The rest of this is calling the function above, and building a numpy array to output to a file."
   ]
  },
  {
   "cell_type": "markdown",
   "id": "8a6c3684",
   "metadata": {},
   "source": [
    "Read and parse the files. This is a lengthy process."
   ]
  },
  {
   "cell_type": "code",
   "execution_count": null,
   "id": "672dfde2",
   "metadata": {},
   "outputs": [],
   "source": [
    "files = get_replay_files()\n",
    "print(f\"\"\"\n",
    "      Looking for .SC2Replay files\n",
    "      {len(files)} files found.\n",
    "      Starting parsing.\n",
    "      \"\"\")\n",
    "\n",
    "replays = parse_replay_files(files)\n",
    "total_states = 0\n",
    "for game in replays:\n",
    "    total_states += len(game.timeline)\n",
    "\n",
    "print(f\"\"\"\n",
    "      Parsing Complete.\n",
    "      Starting Feature Processing on {total_states} observations.\n",
    "      \"\"\")"
   ]
  },
  {
   "cell_type": "markdown",
   "id": "4ac713a4",
   "metadata": {},
   "source": [
    "Process each game for features, and output the table to a csv file."
   ]
  },
  {
   "cell_type": "code",
   "execution_count": null,
   "id": "33714ee7",
   "metadata": {},
   "outputs": [],
   "source": [
    "\n",
    "total_columns = (len(p1header)) + len(p2header) + len(admin_header) + len(admin_footer)\n",
    "\n",
    "all_features = np.zeros((total_states, total_columns), dtype=object)\n",
    "row_index = 0\n",
    "for i,replay in enumerate(replays):  \n",
    "    obs = get_features_from_replay(replay, make_summary_file=True)\n",
    "    for observation in obs:\n",
    "        all_features[row_index] = [row_index] + observation + [replay.metadata[\"winner\"]]\n",
    "        row_index += 1\n",
    "\n",
    "np.savetxt(output_file, all_features, \"%s\", \",\", comments=\"\", header=\", \".join(admin_header + p1header + p2header + admin_footer))\n",
    "print(all_features.shape)\n",
    "print(\"Done.\")"
   ]
  }
 ],
 "metadata": {
  "kernelspec": {
   "display_name": ".venv",
   "language": "python",
   "name": "python3"
  },
  "language_info": {
   "name": "python",
   "version": "3.11.9"
  }
 },
 "nbformat": 4,
 "nbformat_minor": 5
}
